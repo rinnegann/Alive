{
 "cells": [
  {
   "cell_type": "code",
   "execution_count": null,
   "metadata": {},
   "outputs": [],
   "source": [
    "import numpy as np\n",
    "import pandas as pd\n",
    "import os\n",
    "import torch\n",
    "import torch.nn as nn\n",
    "import torchvision\n",
    "import cv2\n",
    "import torch.nn.functional as F \n",
    "from torch.utils.data import DataLoader,Dataset\n",
    "import matplotlib.pyplot as plt\n",
    "from PIL import Image\n",
    "import torchvision.transforms  as transforms\n",
    "import math\n",
    "from earlyStopping import EarlyStopping"
   ]
  },
  {
   "cell_type": "code",
   "execution_count": null,
   "metadata": {},
   "outputs": [],
   "source": [
    "earlyStop = EarlyStopping()"
   ]
  },
  {
   "cell_type": "code",
   "execution_count": null,
   "metadata": {},
   "outputs": [],
   "source": [
    "BATCH_SIZE=2"
   ]
  },
  {
   "cell_type": "code",
   "execution_count": null,
   "metadata": {},
   "outputs": [],
   "source": [
    "# Selecting the CUDA:1 as for the training\n",
    "device = torch.device('cuda:1' if torch.cuda.is_available() else 'cpu')"
   ]
  },
  {
   "cell_type": "code",
   "execution_count": null,
   "metadata": {},
   "outputs": [],
   "source": [
    "# In case os does not allow us to load the files\n",
    "# os.listdir('/media/user/New Volume/AliveDataset/ISIC_Datasets/SIIM-ISIC-2020/')"
   ]
  },
  {
   "cell_type": "code",
   "execution_count": null,
   "metadata": {},
   "outputs": [],
   "source": [
    "csv_path = '/media/user/New Volume/AliveDataset/ISIC_Datasets/SIIM-ISIC-2020/train.csv'\n",
    "IMG_DIR = '/media/user/New Volume/AliveDataset/ISIC_Datasets/SIIM-ISIC-2020/train'"
   ]
  },
  {
   "cell_type": "code",
   "execution_count": null,
   "metadata": {},
   "outputs": [],
   "source": [
    "df = pd.read_csv(csv_path)\n",
    "df.head()"
   ]
  },
  {
   "cell_type": "code",
   "execution_count": null,
   "metadata": {},
   "outputs": [],
   "source": [
    "# checking the sum of zero that contain in each column\n",
    "df.isnull().sum()"
   ]
  },
  {
   "cell_type": "code",
   "execution_count": null,
   "metadata": {},
   "outputs": [],
   "source": [
    "# Map male and female categorical variable into 0 and 1\n",
    "df['sex'] = df['sex'].map({'male':1,'female':0})\n",
    "\n",
    "# Fill All NaN values with -1\n",
    "df['sex'] = df['sex'].fillna(-1)"
   ]
  },
  {
   "cell_type": "code",
   "execution_count": null,
   "metadata": {},
   "outputs": [],
   "source": [
    "# Remove the all data that has no value for the sex\n",
    "df = df.query('sex >=0')"
   ]
  },
  {
   "cell_type": "code",
   "execution_count": null,
   "metadata": {},
   "outputs": [],
   "source": [
    "# Map all anotomical location to numeric values which starts from 0\n",
    "df['anatom_site_general_challenge'] = df['anatom_site_general_challenge'].map({'head/neck':0, 'upper extremity':1, 'lower extremity':2, 'torso':3,\n",
    "       'palms/soles':4, 'oral/genital':5})\n",
    "\n",
    "\n",
    "\n",
    "# Unknown Location will be filled with 6\n",
    "df['anatom_site_general_challenge'] = df['anatom_site_general_challenge'].fillna(6)"
   ]
  },
  {
   "cell_type": "code",
   "execution_count": null,
   "metadata": {},
   "outputs": [],
   "source": [
    "# Fill Nan Age values with 0\n",
    "df['age_approx'] = df['age_approx'].fillna(0)"
   ]
  },
  {
   "cell_type": "code",
   "execution_count": null,
   "metadata": {},
   "outputs": [],
   "source": [
    "bins = [0, 10, 20, 30, 40, 50, 60, 70, 80, 90]\n",
    "\n",
    "labels = [0, 1, 2, 3, 4, 5, 6, 7, 8]\n",
    "\n",
    "\n",
    "# Age bininig each age of patient\n",
    "df['age_bin']  = pd.cut(df['age_approx'],bins=bins,labels=labels,right=True,include_lowest=True)"
   ]
  },
  {
   "cell_type": "code",
   "execution_count": null,
   "metadata": {},
   "outputs": [],
   "source": [
    "df.isnull().sum()"
   ]
  },
  {
   "cell_type": "code",
   "execution_count": null,
   "metadata": {},
   "outputs": [],
   "source": [
    "#\n",
    "location_vocab_size = len(df['anatom_site_general_challenge'].unique())\n",
    "\n",
    "print(location_vocab_size)"
   ]
  },
  {
   "cell_type": "code",
   "execution_count": null,
   "metadata": {},
   "outputs": [],
   "source": [
    "# Number of Genders\n",
    "sex_vocab_size = len(df['sex'].unique())\n",
    "\n",
    "print(sex_vocab_size)"
   ]
  },
  {
   "cell_type": "code",
   "execution_count": null,
   "metadata": {},
   "outputs": [],
   "source": [
    "# Number of Age Bins\n",
    "age_vocab_size = len(df['age_bin'].unique())\n",
    "print(age_vocab_size)"
   ]
  },
  {
   "cell_type": "code",
   "execution_count": null,
   "metadata": {},
   "outputs": [],
   "source": [
    "transformations  = transforms.Compose([transforms.Resize((224,224)),\n",
    "                                       transforms.ToTensor(),\n",
    "                                       transforms.Normalize(mean=[0.485,0.456,0.406],\n",
    "                                                            std=[0.229,0.224,0.225])])"
   ]
  },
  {
   "cell_type": "code",
   "execution_count": null,
   "metadata": {},
   "outputs": [],
   "source": [
    "class SIIMDataAcquisition(Dataset):\n",
    "    def __init__(self,df,transforms=None):\n",
    "        super().__init__()\n",
    "        self.df = df\n",
    "        \n",
    "        self.transforms = transforms\n",
    "    \n",
    "    def __len__(self):\n",
    "        return len(self.df['patient_id'].unique())\n",
    "    \n",
    "    def __getitem__(self, idx):\n",
    "\n",
    "        per_patient = []\n",
    "        patient_id = self.df['patient_id'].unique()[idx]\n",
    "        filtered_df = self.df.loc[self.df['patient_id'].eq(patient_id)].sort_values('age_bin')\n",
    "        sex = torch.FloatTensor(filtered_df['sex'].to_list())\n",
    "        age = torch.FloatTensor(filtered_df['age_bin'].to_list())\n",
    "        location = torch.FloatTensor(filtered_df['anatom_site_general_challenge'].to_list())\n",
    "        lesion = filtered_df['image_name'].to_list()\n",
    "\n",
    "        labels = torch.FloatTensor(filtered_df['target'].to_list())\n",
    "\n",
    "\n",
    "        for image_id in lesion:\n",
    "            image_path = os.path.join(IMG_DIR,image_id +'.jpg')\n",
    "\n",
    "            image = Image.open(image_path)\n",
    "\n",
    "            image = self.transforms(image)\n",
    "            per_patient.append(image)\n",
    "\n",
    "        \n",
    "        concat_features = torch.stack(per_patient)\n",
    "\n",
    "       \n",
    "\n",
    "\n",
    "        return concat_features,sex.T,age.T,location.T,labels\n",
    "           \n"
   ]
  },
  {
   "cell_type": "code",
   "execution_count": null,
   "metadata": {},
   "outputs": [],
   "source": [
    "def dynamic_collate_fn(batch):\n",
    "\n",
    "    s_l = []\n",
    "    gender = []\n",
    "    lo = []\n",
    "    age_array = []\n",
    "    gt_array = []\n",
    "    \n",
    "    for data in batch:\n",
    "        skin_lesion = data[0]\n",
    "        sex = data[1]\n",
    "        age = data[2]\n",
    "        locations = data[3]\n",
    "        labels = data[4]\n",
    "\n",
    "        s_l.append(skin_lesion)\n",
    "        gender.append(sex)\n",
    "        lo.append(locations)\n",
    "        age_array.append(age)\n",
    "        gt_array.append(labels)\n",
    "\n",
    "\n",
    "\n",
    "    return {'skin_lesions':s_l,\n",
    "            'gender':gender,\n",
    "            'age':age_array,\n",
    "            'locations':lo,\n",
    "            'gt_label':gt_array\n",
    "            }\n"
   ]
  },
  {
   "cell_type": "code",
   "execution_count": null,
   "metadata": {},
   "outputs": [],
   "source": [
    "# train and validation split into ratio of 8:2\n",
    "\n",
    "train_df = df.sample(frac=0.8,random_state=200)\n",
    "val_df   = df.drop(train_df.index)"
   ]
  },
  {
   "cell_type": "code",
   "execution_count": null,
   "metadata": {},
   "outputs": [],
   "source": [
    "\n",
    "train_dataset = SIIMDataAcquisition(df=train_df,transforms=transformations)\n",
    "train_dataLoader = torch.utils.data.DataLoader(dataset=train_dataset ,batch_size=BATCH_SIZE,\n",
    "                                               collate_fn=dynamic_collate_fn,shuffle=True)"
   ]
  },
  {
   "cell_type": "code",
   "execution_count": null,
   "metadata": {},
   "outputs": [],
   "source": [
    "\n",
    "val_dataset = SIIMDataAcquisition(df=val_df,transforms=transformations)\n",
    "val_dataLoader = torch.utils.data.DataLoader(dataset=val_dataset  ,batch_size=BATCH_SIZE,\n",
    "                                             collate_fn=dynamic_collate_fn,shuffle=False)\n"
   ]
  },
  {
   "cell_type": "code",
   "execution_count": null,
   "metadata": {},
   "outputs": [],
   "source": [
    "class PositionalEncoding(nn.Module):\n",
    "\n",
    "    def __init__(self, d_model, dropout=0.1, max_len=120):\n",
    "        super(PositionalEncoding, self).__init__()\n",
    "        self.dropout = nn.Dropout(p=dropout)\n",
    "\n",
    "        pe = torch.zeros(size=(max_len, d_model))\n",
    "        position = torch.arange(0, max_len, dtype=torch.float).unsqueeze(1)\n",
    "        div_term = torch.exp(torch.arange(0, d_model, 2).float() * (-math.log(10000.0) / d_model))\n",
    "        pe[:, 0::2] = torch.sin(position * div_term)\n",
    "        pe[:, 1::2] = torch.cos(position * div_term)\n",
    "        pe = pe.transpose(0, 1)\n",
    "        self.register_buffer('pe', pe)\n",
    "\n",
    "    def forward(self, x):\n",
    "        \n",
    "        # print(x.size()) [64, 7]\n",
    "        \n",
    "        x = x + self.pe[:,:x.size(1)] \n",
    "        return self.dropout(x)"
   ]
  },
  {
   "cell_type": "code",
   "execution_count": null,
   "metadata": {},
   "outputs": [],
   "source": [
    "class FeatureExtractionResnet(nn.Module):\n",
    "\n",
    "    # Model is trained on SIIM ISIC 2020 in binary classification setting\n",
    "    TrainedModel = torch.load('/home/user/Documents/Alive/Alive_Repo/BaseLineModels/IRSoftAttention/finetunedResnet.pt').to(device)\n",
    "\n",
    "    TrainedModel.eval()\n",
    "    \n",
    "    def __init__(self,hidden_dimension,num_ftrs:int=2048):\n",
    "        super().__init__()\n",
    "\n",
    "        FeatureExtractionResnet.TrainedModel.fc = nn.Identity()\n",
    "\n",
    "        self.linear_projection = nn.Linear(num_ftrs,hidden_dimension)\n",
    "\n",
    "    def forward(self,x):\n",
    "        x = FeatureExtractionResnet.TrainedModel(x)\n",
    "        return self.linear_projection(x)"
   ]
  },
  {
   "cell_type": "code",
   "execution_count": null,
   "metadata": {},
   "outputs": [],
   "source": [
    "class InputEmbedding(nn.Module):\n",
    "    def __init__(self,vocab_size,hidden_dim):\n",
    "        super().__init__()\n",
    "\n",
    "        self.embedding = nn.Embedding(vocab_size,hidden_dim)\n",
    "\n",
    "    def forward(self,x):\n",
    "        return self.embedding(x)"
   ]
  },
  {
   "cell_type": "code",
   "execution_count": null,
   "metadata": {},
   "outputs": [],
   "source": [
    "class EmbeddingModule(nn.Module):\n",
    "    def __init__(self,sex_vocab,age_vocab,location_vocab,max_seq_length,hidden_dim,batch_size):\n",
    "        super().__init__()\n",
    "\n",
    "\n",
    "        self.hidden_dim = hidden_dim\n",
    "        \n",
    "        self.sex_embedding = InputEmbedding(sex_vocab,self.hidden_dim)\n",
    "        self.age_embedding = InputEmbedding(age_vocab,self.hidden_dim)\n",
    "        self.location_embedding = InputEmbedding(location_vocab,self.hidden_dim)\n",
    "        \n",
    "        self.feature_extraction = FeatureExtractionResnet(self.hidden_dim)\n",
    "        self.type_embedding_matrix = nn.Parameter(torch.randn(batch_size,self.hidden_dim,3))\n",
    "        self.positional_encoding = PositionalEncoding(self.hidden_dim)\n",
    "\n",
    "        self.max_seq_lenth = max_seq_length\n",
    "\n",
    "    def forward(self,age,sex,locations,lesions):\n",
    "\n",
    "\n",
    "    \n",
    "        # # Getting Batch Size\n",
    "        # batch_size = len(sex)\n",
    "\n",
    "\n",
    "        \n",
    "\n",
    "\n",
    "        # # Rearrange Type Embedding from 1,64,3 -> Batch_Size,64,3\n",
    "        # self.type_embedding_matrix = nn.Parameter(einops.repeat(self.type_embedding_matrix,\n",
    "        #                                            'b h c -> (repeat b) h c',repeat=batch_size))\n",
    "        \n",
    "        # Getting Sex Embedding\n",
    "        sex_emb = [self.sex_embedding(s.long()).T for s in sex]\n",
    "\n",
    "\n",
    "\n",
    "        # Lesion Feature Extraction from PreTrained ResNet101 on SIIM ISIC 2020\n",
    "        feat_ext = [self.feature_extraction(ls).T for ls in lesions]\n",
    "        \n",
    "\n",
    "        # Anatomic Site Embedding\n",
    "        anatomic_site_emb = [self.location_embedding(lc.long()).T for lc  in locations]\n",
    "\n",
    "\n",
    "        \n",
    "        # Age Embedding\n",
    "        age_emb = [self.age_embedding(ag.long()).T for ag in age]\n",
    "\n",
    "        \n",
    "        \n",
    "\n",
    "\n",
    "        # Adding Lesion Extraction and Anatomical Location Together\n",
    "        Qp_per_batch = [x+y for x,y in zip(feat_ext,anatomic_site_emb)]\n",
    "        \n",
    "\n",
    "        \n",
    "\n",
    "        \n",
    "\n",
    "        # Concatenating parameter token with age embedding(+positional encoding) for each sample in the batch \n",
    "        S_P = [F.pad(self.positional_encoding(torch.cat([self.type_embedding_matrix[idx,:,0].unsqueeze(1),val],dim=1)),(0, self.max_seq_lenth-val.shape[1])) \n",
    "               for idx,val in enumerate(age_emb)]\n",
    "\n",
    "       \n",
    "\n",
    "        # Concatenating parameter token with gender embeddingfor each sample in the batch \n",
    "        Y_P = [F.pad(torch.cat([self.type_embedding_matrix[idx,:,1].unsqueeze(1),val],dim=1),(0, self.max_seq_lenth-val.shape[1])) \n",
    "               for idx,val in enumerate(sex_emb)]\n",
    "        \n",
    "\n",
    "\n",
    "        # Concatenating parameter token with lesion+location embedding for each sample in the batch \n",
    "        Q_p = [F.pad(torch.cat([self.type_embedding_matrix[idx,:,2].unsqueeze(1),val],dim=1),(0, self.max_seq_lenth-val.shape[1])) \n",
    "               for idx,val in enumerate(Qp_per_batch)]\n",
    "        \n",
    "\n",
    "       \n",
    "     \n",
    "       \n",
    "        # Combined all embeddings and form a batch \n",
    "        combined_embedding = torch.stack([torch.cat([x,y,z],dim=-1) for x,y,z in zip(Q_p,Y_P,S_P)])\n",
    "\n",
    "       \n",
    "       \n",
    "\n",
    "\n",
    "        return combined_embedding"
   ]
  },
  {
   "cell_type": "code",
   "execution_count": null,
   "metadata": {},
   "outputs": [],
   "source": [
    "class EncoderBlock(nn.Module):\n",
    "    def __init__(self,hidden_dimenion,num_heads,dropout):\n",
    "\n",
    "        super().__init__()\n",
    "        self.hidden_dimension = hidden_dimenion\n",
    "        self.num_heads = num_heads\n",
    "        self.dropout = dropout\n",
    "\n",
    "\n",
    "        self.norm = nn.LayerNorm(self.hidden_dimension)\n",
    "\n",
    "        self.multihead = nn.MultiheadAttention(self.hidden_dimension,\n",
    "                                               self.num_heads,self.dropout)\n",
    "        \n",
    "        self.enc_mlp = nn.Sequential(\n",
    "            nn.Linear(self.hidden_dimension,self.hidden_dimension*4),\n",
    "            nn.GELU(),\n",
    "            nn.Dropout(self.dropout),\n",
    "            nn.Linear(self.hidden_dimension*4,self.hidden_dimension),\n",
    "            nn.GELU()\n",
    "        )\n",
    "\n",
    "    def forward(self,embeddings,masks):\n",
    "        firstnorm = self.norm(embeddings)\n",
    "        attention_out = self.multihead(firstnorm,firstnorm,firstnorm,key_padding_mask=masks)[0]\n",
    "\n",
    "        residual_1 = attention_out + firstnorm\n",
    "\n",
    "        secondnorm = self.norm(residual_1)\n",
    "\n",
    "        ff_out = self.enc_mlp(secondnorm)\n",
    "\n",
    "        return ff_out + residual_1"
   ]
  },
  {
   "cell_type": "code",
   "execution_count": null,
   "metadata": {},
   "outputs": [],
   "source": [
    "def encoderMasks(sequence_length,batch_size,concat_feature):\n",
    "\n",
    "    masks = torch.zeros(batch_size,concat_feature)\n",
    "\n",
    "    for batch_idx in range(batch_size):\n",
    "        for seq_idx in sequence_length:\n",
    "            for xi in range(seq_idx):\n",
    "                masks[batch_idx][xi] = 1\n",
    "\n",
    "\n",
    "\n",
    "    return masks.T.to(device)"
   ]
  },
  {
   "cell_type": "code",
   "execution_count": null,
   "metadata": {},
   "outputs": [],
   "source": [
    "class TransFormerModel(nn.Module):\n",
    "    def __init__(self,num_layers:int,num_heads:int,hidden_dim:int,\n",
    "                 num_classes:int,dropout:float,max_lesion_length:int=115):\n",
    "        super().__init__()\n",
    "\n",
    "\n",
    "        self.hidden_dim = hidden_dim\n",
    "\n",
    "        self.max_lesion_length = max_lesion_length\n",
    "        self.embedding = EmbeddingModule(sex_vocab_size,\n",
    "                                         age_vocab_size,\n",
    "                                         location_vocab_size,\n",
    "                                         self.max_lesion_length,\n",
    "                                         self.hidden_dim ,\n",
    "                                         BATCH_SIZE)\n",
    "        \n",
    "\n",
    "        \n",
    "        \n",
    "        self.encodeLayers = [EncoderBlock(self.hidden_dim ,num_heads,0.1).to(device) for i in range(num_layers)]\n",
    "\n",
    "\n",
    "        self.MLP_head = nn.Sequential(\n",
    "            nn.LayerNorm(self.hidden_dim*3),\n",
    "            nn.Linear(self.hidden_dim *3 ,self.hidden_dim ),\n",
    "            nn.Linear(self.hidden_dim,num_classes)\n",
    "        )\n",
    "\n",
    "        self.activation = nn.Sigmoid()\n",
    "\n",
    "    def forward(self,age,sex,locations,lesions):\n",
    "\n",
    "        \n",
    "        encode_output = self.embedding(age,sex,locations,lesions).transpose(1,2) # [4, 348, 64]\n",
    "\n",
    "\n",
    "        seq_length = [j.size()[0] for j in age]\n",
    "        \n",
    "        KeyPaddingMasks = encoderMasks(seq_length, encode_output.size()[0],encode_output.size()[1] )\n",
    "\n",
    "       \n",
    "\n",
    "\n",
    "        for encode_layer in self.encodeLayers:\n",
    "            encode_output = encode_layer(encode_output,KeyPaddingMasks)\n",
    "\n",
    "\n",
    "        # Getting class token from each batch and Flatten the last two dimension\n",
    "        class_tokens = encode_output[:,[0,115,231],:].view(-1,3*self.hidden_dim)\n",
    "\n",
    "        \n",
    "\n",
    "        # print('this has been completed untill this point')\n",
    "        return self.activation(self.MLP_head(class_tokens))\n",
    "\n",
    "        "
   ]
  },
  {
   "cell_type": "code",
   "execution_count": null,
   "metadata": {},
   "outputs": [],
   "source": [
    "\n"
   ]
  },
  {
   "cell_type": "code",
   "execution_count": null,
   "metadata": {},
   "outputs": [],
   "source": [
    "# Pre-Defined Parameters\n",
    "dimension_of_projection = 64\n",
    "classification_dim = 2048\n",
    "max_lesion_length = max(df.groupby('patient_id')['image_name'].count())\n",
    "min_lesion_length = min(df.groupby('patient_id')['image_name'].count())\n",
    "num_layers = 4\n",
    "num_heads = 4\n",
    "num_classes=1"
   ]
  },
  {
   "cell_type": "code",
   "execution_count": null,
   "metadata": {},
   "outputs": [],
   "source": [
    "model = TransFormerModel(num_layers=num_layers,num_heads=num_heads,\n",
    "                         hidden_dim=dimension_of_projection,\n",
    "                         num_classes=num_classes,\n",
    "                         dropout=0.1,\n",
    "                         max_lesion_length=max_lesion_length).to(device)"
   ]
  },
  {
   "cell_type": "code",
   "execution_count": null,
   "metadata": {},
   "outputs": [],
   "source": [
    "optimizer = torch.optim.Adam(model.parameters(),lr=10e-3,weight_decay=0.03)\n",
    "criterion = nn.BCELoss()\n",
    "scheduler = torch.optim.lr_scheduler.LinearLR(optimizer)"
   ]
  },
  {
   "cell_type": "code",
   "execution_count": null,
   "metadata": {},
   "outputs": [],
   "source": [
    "def getMaxOfLabels(labels):\n",
    "    data =[]\n",
    "    for i in labels:\n",
    "        data.append(torch.max(i))\n",
    "    return torch.stack(data)"
   ]
  },
  {
   "cell_type": "code",
   "execution_count": null,
   "metadata": {},
   "outputs": [],
   "source": [
    "def trainEpoch(dataloader,model,criteria,optimizer):\n",
    "\n",
    "    model.train()\n",
    "    train_losses = []\n",
    "\n",
    "    for batch_idx,(data) in enumerate(dataloader):\n",
    "\n",
    "        age = [x.to(device) for x in data['age']]\n",
    "        gender = [x.to(device) for x in data['gender']]\n",
    "        anatomic_location  = [x.to(device) for x in data['locations']]\n",
    "        skin_lesions = [x.to(device) for x in data['skin_lesions']]\n",
    "        labels = [x.to(device) for x in data['gt_label']]\n",
    "\n",
    "        refined_labels = getMaxOfLabels(labels).view(-1,1)\n",
    "\n",
    "\n",
    "        optimizer.zero_grad()\n",
    "\n",
    "        output = model(age,gender,anatomic_location,skin_lesions)\n",
    "\n",
    "        loss = criteria(output,refined_labels)\n",
    "\n",
    "        loss.backward()\n",
    "\n",
    "        optimizer.step()\n",
    "\n",
    "        if batch_idx%10 ==0:\n",
    "            print(f'Training loss at Batch {batch_idx} --> {loss.item()}')\n",
    "\n",
    "        train_losses.append(loss.item())\n",
    "\n",
    "    return train_losses"
   ]
  },
  {
   "cell_type": "code",
   "execution_count": null,
   "metadata": {},
   "outputs": [],
   "source": [
    "def valEpoch(dataloader,model,criteria):\n",
    "\n",
    "    model.eval()\n",
    "    val_losses = []\n",
    "\n",
    "    for batch_idx,(data) in enumerate(dataloader):\n",
    "\n",
    "        age = [x.to(device) for x in data['age']]\n",
    "        gender = [x.to(device) for x in data['gender']]\n",
    "        anatomic_location  = [x.to(device) for x in data['locations']]\n",
    "        skin_lesions = [x.to(device) for x in data['skin_lesions']]\n",
    "        labels = [x.to(device) for x in data['gt_label']]\n",
    "\n",
    "        refined_labels = getMaxOfLabels(labels).view(-1,1)\n",
    "\n",
    "\n",
    "        output = model(age,gender,anatomic_location,skin_lesions)\n",
    "\n",
    "        loss = criteria(output,refined_labels)\n",
    "\n",
    "        \n",
    "\n",
    "        if batch_idx%10 ==0:\n",
    "            print(f'Validation loss at Batch {batch_idx} --> {loss.item()}')\n",
    "\n",
    "        val_losses.append(loss.item())\n",
    "\n",
    "    return val_losses"
   ]
  },
  {
   "cell_type": "code",
   "execution_count": null,
   "metadata": {},
   "outputs": [],
   "source": [
    "def main(model,trainLoader,ValLoader,criteria,optimizer,scheduler,epochs):\n",
    "\n",
    "    train_losses = []\n",
    "    val_losses   = []\n",
    "    for epoch in range(epochs):\n",
    "        train_loss = trainEpoch(trainLoader,model,criteria,optimizer)\n",
    "        val_loss = valEpoch(ValLoader,model,criteria)\n",
    "\n",
    "\n",
    "        avg_train_loss = np.average(train_loss)\n",
    "        avg_val_loss = np.average(val_loss)\n",
    "\n",
    "\n",
    "        train_losses.append(avg_train_loss)\n",
    "        val_losses.append(avg_val_loss)\n",
    "\n",
    "        earlyStop(avg_val_loss,model)\n",
    "\n",
    "        scheduler.step()\n",
    "\n",
    "        if earlyStop.early_stop:\n",
    "            print('Early Stopping')\n",
    "            break\n",
    "\n",
    "    model.load_state_dict(torch.load('checkpoint.pt'))\n",
    "\n",
    "\n",
    "    return model,train_losses,val_losses\n",
    "\n",
    "        "
   ]
  },
  {
   "cell_type": "code",
   "execution_count": null,
   "metadata": {},
   "outputs": [],
   "source": [
    "SavedModel,trainLosses,ValLosses = main(model,train_dataLoader,val_dataLoader,criterion,optimizer,scheduler,100)"
   ]
  },
  {
   "cell_type": "code",
   "execution_count": null,
   "metadata": {},
   "outputs": [],
   "source": []
  }
 ],
 "metadata": {
  "kernelspec": {
   "display_name": "LuminEye",
   "language": "python",
   "name": "python3"
  },
  "language_info": {
   "codemirror_mode": {
    "name": "ipython",
    "version": 3
   },
   "file_extension": ".py",
   "mimetype": "text/x-python",
   "name": "python",
   "nbconvert_exporter": "python",
   "pygments_lexer": "ipython3",
   "version": "3.10.6"
  }
 },
 "nbformat": 4,
 "nbformat_minor": 2
}
